{
 "cells": [
  {
   "cell_type": "code",
   "execution_count": 27,
   "metadata": {},
   "outputs": [],
   "source": [
    "#import os\n",
    "import os\n",
    "\n",
    "#Create a P2PKH Bitcoin Address\n",
    "\n",
    "# P2PKH Script\n",
    "from bitcoin import *\n",
    "from bitcoin.wallet import CBitcoinSecret, P2PKHBitcoinAddress"
   ]
  },
  {
   "cell_type": "markdown",
   "metadata": {},
   "source": [
    "Create a P2PKH Script"
   ]
  },
  {
   "cell_type": "code",
   "execution_count": 55,
   "metadata": {},
   "outputs": [
    {
     "name": "stdout",
     "output_type": "stream",
     "text": [
      "Private Key: 3BJHsee9XihA97ct3L6W5qqzBEDFb4GT8WrPGALyRxtCtLEKFJ4BKsoHLzqGEUjiy4Ur5Hyay6hd3nYP\n",
      "Public Key: 04588fd0d036888fb36c7b22685ff797269ad7744288991becb08a9250bb5119700039d8e32ade9821b8ea92dcdffe789c33124c11ea2c9212fbf3ede0f5c49e53\n",
      "Bitcoin Address: mkpoAUVfz5egpZRT6aFG1RMYQMBY6kxRhe\n"
     ]
    }
   ],
   "source": [
    "SelectParams('testnet')\n",
    "# Generate a random private key\n",
    "s = 'cSSyMMZQkB4uLULkEAF4CypPF2meKrwfox2sXz6BEnmMLckc4Y9E'\n",
    "bytes_s = s.encode()\n",
    "\n",
    "private_key = CBitcoinSecret.from_secret_bytes(bytes_s)\n",
    "# Derive the public key and Bitcoin address\n",
    "public_key = private_key.pub\n",
    "address = P2PKHBitcoinAddress.from_pubkey(public_key)\n",
    "\n",
    "print(\"Private Key:\", private_key)\n",
    "print(\"Public Key:\", public_key.hex())\n",
    "print(\"Bitcoin Address:\", address)\n",
    "\n"
   ]
  },
  {
   "cell_type": "markdown",
   "metadata": {},
   "source": [
    "Private Key: cSSyMMZQkB4uLULkEAF4CypPF2meKrwfox2sXz6BEnmMLckc4Y9E\n",
    "\n",
    "Public Key: 03b0aef05565615f51327a9e86912bb43c7f4f14b7e8c7a1451649c51f949d2a2f\n",
    "\n",
    "Bitcoin Address: mr2gt3V9KiBmaPsJTtWxqjaHkXcX46Nrjt"
   ]
  },
  {
   "cell_type": "markdown",
   "metadata": {},
   "source": [
    "Locks Funds"
   ]
  },
  {
   "cell_type": "markdown",
   "metadata": {},
   "source": [
    "Spend Locked Funds"
   ]
  },
  {
   "cell_type": "code",
   "execution_count": 1,
   "metadata": {},
   "outputs": [
    {
     "ename": "VerifyOpFailedError",
     "evalue": "EvalScript: OP_EQUALVERIFY failed",
     "output_type": "error",
     "traceback": [
      "\u001b[0;31m---------------------------------------------------------------------------\u001b[0m",
      "\u001b[0;31mVerifyOpFailedError\u001b[0m                       Traceback (most recent call last)",
      "Cell \u001b[0;32mIn[1], line 76\u001b[0m\n\u001b[1;32m     71\u001b[0m txin\u001b[38;5;241m.\u001b[39mscriptSig \u001b[38;5;241m=\u001b[39m CScript([sig, seckey\u001b[38;5;241m.\u001b[39mpub])\n\u001b[1;32m     73\u001b[0m \u001b[38;5;66;03m# Verify the signature worked. This calls EvalScript() and actually executes\u001b[39;00m\n\u001b[1;32m     74\u001b[0m \u001b[38;5;66;03m# the opcodes in the scripts to see if everything worked out. If it doesn't an\u001b[39;00m\n\u001b[1;32m     75\u001b[0m \u001b[38;5;66;03m# exception will be raised.\u001b[39;00m\n\u001b[0;32m---> 76\u001b[0m \u001b[43mVerifyScript\u001b[49m\u001b[43m(\u001b[49m\u001b[43mtxin\u001b[49m\u001b[38;5;241;43m.\u001b[39;49m\u001b[43mscriptSig\u001b[49m\u001b[43m,\u001b[49m\u001b[43m \u001b[49m\u001b[43mtxin_scriptPubKey\u001b[49m\u001b[43m,\u001b[49m\u001b[43m \u001b[49m\u001b[43mtx\u001b[49m\u001b[43m,\u001b[49m\u001b[43m \u001b[49m\u001b[38;5;241;43m0\u001b[39;49m\u001b[43m,\u001b[49m\u001b[43m \u001b[49m\u001b[43m(\u001b[49m\u001b[43mSCRIPT_VERIFY_P2SH\u001b[49m\u001b[43m,\u001b[49m\u001b[43m)\u001b[49m\u001b[43m)\u001b[49m\n\u001b[1;32m     78\u001b[0m \u001b[38;5;66;03m# Done! Print the transaction to standard output with the bytes-to-hex\u001b[39;00m\n\u001b[1;32m     79\u001b[0m \u001b[38;5;66;03m# function.\u001b[39;00m\n\u001b[1;32m     80\u001b[0m \u001b[38;5;28mprint\u001b[39m(b2x(tx\u001b[38;5;241m.\u001b[39mserialize()))\n",
      "File \u001b[0;32m~/.local/lib/python3.10/site-packages/bitcoin/core/scripteval.py:754\u001b[0m, in \u001b[0;36mVerifyScript\u001b[0;34m(scriptSig, scriptPubKey, txTo, inIdx, flags)\u001b[0m\n\u001b[1;32m    752\u001b[0m \u001b[38;5;28;01mif\u001b[39;00m SCRIPT_VERIFY_P2SH \u001b[38;5;129;01min\u001b[39;00m flags:\n\u001b[1;32m    753\u001b[0m     stackCopy \u001b[38;5;241m=\u001b[39m \u001b[38;5;28mlist\u001b[39m(stack)\n\u001b[0;32m--> 754\u001b[0m \u001b[43mEvalScript\u001b[49m\u001b[43m(\u001b[49m\u001b[43mstack\u001b[49m\u001b[43m,\u001b[49m\u001b[43m \u001b[49m\u001b[43mscriptPubKey\u001b[49m\u001b[43m,\u001b[49m\u001b[43m \u001b[49m\u001b[43mtxTo\u001b[49m\u001b[43m,\u001b[49m\u001b[43m \u001b[49m\u001b[43minIdx\u001b[49m\u001b[43m,\u001b[49m\u001b[43m \u001b[49m\u001b[43mflags\u001b[49m\u001b[38;5;241;43m=\u001b[39;49m\u001b[43mflags\u001b[49m\u001b[43m)\u001b[49m\n\u001b[1;32m    755\u001b[0m \u001b[38;5;28;01mif\u001b[39;00m \u001b[38;5;28mlen\u001b[39m(stack) \u001b[38;5;241m==\u001b[39m \u001b[38;5;241m0\u001b[39m:\n\u001b[1;32m    756\u001b[0m     \u001b[38;5;28;01mraise\u001b[39;00m VerifyScriptError(\u001b[38;5;124m\"\u001b[39m\u001b[38;5;124mscriptPubKey left an empty stack\u001b[39m\u001b[38;5;124m\"\u001b[39m)\n",
      "File \u001b[0;32m~/.local/lib/python3.10/site-packages/bitcoin/core/scripteval.py:725\u001b[0m, in \u001b[0;36mEvalScript\u001b[0;34m(stack, scriptIn, txTo, inIdx, flags)\u001b[0m\n\u001b[1;32m    711\u001b[0m \u001b[38;5;250m\u001b[39m\u001b[38;5;124;03m\"\"\"Evaluate a script\u001b[39;00m\n\u001b[1;32m    712\u001b[0m \n\u001b[1;32m    713\u001b[0m \u001b[38;5;124;03mstack    - Initial stack\u001b[39;00m\n\u001b[0;32m   (...)\u001b[0m\n\u001b[1;32m    721\u001b[0m \u001b[38;5;124;03mflags    - SCRIPT_VERIFY_* flags to apply\u001b[39;00m\n\u001b[1;32m    722\u001b[0m \u001b[38;5;124;03m\"\"\"\u001b[39;00m\n\u001b[1;32m    724\u001b[0m \u001b[38;5;28;01mtry\u001b[39;00m:\n\u001b[0;32m--> 725\u001b[0m     \u001b[43m_EvalScript\u001b[49m\u001b[43m(\u001b[49m\u001b[43mstack\u001b[49m\u001b[43m,\u001b[49m\u001b[43m \u001b[49m\u001b[43mscriptIn\u001b[49m\u001b[43m,\u001b[49m\u001b[43m \u001b[49m\u001b[43mtxTo\u001b[49m\u001b[43m,\u001b[49m\u001b[43m \u001b[49m\u001b[43minIdx\u001b[49m\u001b[43m,\u001b[49m\u001b[43m \u001b[49m\u001b[43mflags\u001b[49m\u001b[38;5;241;43m=\u001b[39;49m\u001b[43mflags\u001b[49m\u001b[43m)\u001b[49m\n\u001b[1;32m    726\u001b[0m \u001b[38;5;28;01mexcept\u001b[39;00m CScriptInvalidError \u001b[38;5;28;01mas\u001b[39;00m err:\n\u001b[1;32m    727\u001b[0m     \u001b[38;5;28;01mraise\u001b[39;00m EvalScriptError(\u001b[38;5;28mrepr\u001b[39m(err),\n\u001b[1;32m    728\u001b[0m                           stack\u001b[38;5;241m=\u001b[39mstack,\n\u001b[1;32m    729\u001b[0m                           scriptIn\u001b[38;5;241m=\u001b[39mscriptIn,\n\u001b[1;32m    730\u001b[0m                           txTo\u001b[38;5;241m=\u001b[39mtxTo,\n\u001b[1;32m    731\u001b[0m                           inIdx\u001b[38;5;241m=\u001b[39minIdx,\n\u001b[1;32m    732\u001b[0m                           flags\u001b[38;5;241m=\u001b[39mflags)\n",
      "File \u001b[0;32m~/.local/lib/python3.10/site-packages/bitcoin/core/scripteval.py:559\u001b[0m, in \u001b[0;36m_EvalScript\u001b[0;34m(stack, scriptIn, txTo, inIdx, flags)\u001b[0m\n\u001b[1;32m    557\u001b[0m         stack\u001b[38;5;241m.\u001b[39mpop()\n\u001b[1;32m    558\u001b[0m     \u001b[38;5;28;01melse\u001b[39;00m:\n\u001b[0;32m--> 559\u001b[0m         \u001b[43merr_raiser\u001b[49m\u001b[43m(\u001b[49m\u001b[43mVerifyOpFailedError\u001b[49m\u001b[43m,\u001b[49m\u001b[43m \u001b[49m\u001b[43msop\u001b[49m\u001b[43m)\u001b[49m\n\u001b[1;32m    561\u001b[0m \u001b[38;5;28;01melif\u001b[39;00m sop \u001b[38;5;241m==\u001b[39m OP_FROMALTSTACK:\n\u001b[1;32m    562\u001b[0m     \u001b[38;5;28;01mif\u001b[39;00m \u001b[38;5;28mlen\u001b[39m(altstack) \u001b[38;5;241m<\u001b[39m \u001b[38;5;241m1\u001b[39m:\n",
      "File \u001b[0;32m~/.local/lib/python3.10/site-packages/bitcoin/core/scripteval.py:391\u001b[0m, in \u001b[0;36m_EvalScript.<locals>.err_raiser\u001b[0;34m(cls, *args)\u001b[0m\n\u001b[1;32m    382\u001b[0m \u001b[38;5;28;01mdef\u001b[39;00m \u001b[38;5;21merr_raiser\u001b[39m(\u001b[38;5;28mcls\u001b[39m, \u001b[38;5;241m*\u001b[39margs):\n\u001b[1;32m    383\u001b[0m \u001b[38;5;250m    \u001b[39m\u001b[38;5;124;03m\"\"\"Helper function for raising EvalScriptError exceptions\u001b[39;00m\n\u001b[1;32m    384\u001b[0m \n\u001b[1;32m    385\u001b[0m \u001b[38;5;124;03m    cls   - subclass you want to raise\u001b[39;00m\n\u001b[0;32m   (...)\u001b[0m\n\u001b[1;32m    389\u001b[0m \u001b[38;5;124;03m    Fills in the state of execution for you.\u001b[39;00m\n\u001b[1;32m    390\u001b[0m \u001b[38;5;124;03m    \"\"\"\u001b[39;00m\n\u001b[0;32m--> 391\u001b[0m     \u001b[38;5;28;01mraise\u001b[39;00m \u001b[38;5;28mcls\u001b[39m(\u001b[38;5;241m*\u001b[39margs,\n\u001b[1;32m    392\u001b[0m             sop\u001b[38;5;241m=\u001b[39msop,\n\u001b[1;32m    393\u001b[0m             sop_data\u001b[38;5;241m=\u001b[39msop_data,\n\u001b[1;32m    394\u001b[0m             sop_pc\u001b[38;5;241m=\u001b[39msop_pc,\n\u001b[1;32m    395\u001b[0m             stack\u001b[38;5;241m=\u001b[39mstack, scriptIn\u001b[38;5;241m=\u001b[39mscriptIn, txTo\u001b[38;5;241m=\u001b[39mtxTo, inIdx\u001b[38;5;241m=\u001b[39minIdx, flags\u001b[38;5;241m=\u001b[39mflags,\n\u001b[1;32m    396\u001b[0m             altstack\u001b[38;5;241m=\u001b[39maltstack, vfExec\u001b[38;5;241m=\u001b[39mvfExec, pbegincodehash\u001b[38;5;241m=\u001b[39mpbegincodehash, nOpCount\u001b[38;5;241m=\u001b[39mnOpCount[\u001b[38;5;241m0\u001b[39m])\n",
      "\u001b[0;31mVerifyOpFailedError\u001b[0m: EvalScript: OP_EQUALVERIFY failed"
     ]
    }
   ],
   "source": [
    "#!/usr/bin/env python3\n",
    "\n",
    "# Copyright (C) 2014 The python-bitcoinlib developers\n",
    "#\n",
    "# This file is part of python-bitcoinlib.\n",
    "#\n",
    "# It is subject to the license terms in the LICENSE file found in the top-level\n",
    "# directory of this distribution.\n",
    "#\n",
    "# No part of python-bitcoinlib, including this file, may be copied, modified,\n",
    "# propagated, or distributed except according to the terms contained in the\n",
    "# LICENSE file.\n",
    "\n",
    "\"\"\"Low-level example of how to spend a standard pay-to-pubkey-hash (P2PKH) txout\"\"\"\n",
    "\n",
    "import hashlib\n",
    "\n",
    "from bitcoin import SelectParams\n",
    "from bitcoin.core import b2x, lx, COIN, COutPoint, CMutableTxOut, CMutableTxIn, CMutableTransaction, Hash160\n",
    "from bitcoin.core.script import CScript, OP_DUP, OP_HASH160, OP_EQUALVERIFY, OP_CHECKSIG, SignatureHash, SIGHASH_ALL\n",
    "from bitcoin.core.scripteval import VerifyScript, SCRIPT_VERIFY_P2SH\n",
    "from bitcoin.wallet import CBitcoinAddress, CBitcoinSecret\n",
    "#from bitcoin import broadcast_tx\n",
    "\n",
    "SelectParams('testnet')\n",
    "\n",
    "# Create the (in)famous correct brainwallet secret key.\n",
    "h = hashlib.sha256(b'cSSyMMZQkB4uLULkEAF4CypPF2meKrwfox2sXz6BEnmMLckc4Y9E').digest()\n",
    "seckey = CBitcoinSecret.from_secret_bytes(h)\n",
    "\n",
    "# Same as the txid:vout the createrawtransaction RPC call requires\n",
    "#\n",
    "# lx() takes *little-endian* hex and converts it to bytes; in Bitcoin\n",
    "# transaction hashes are shown little-endian rather than the usual big-endian.\n",
    "# There's also a corresponding x() convenience function that takes big-endian\n",
    "# hex and converts it to bytes.\n",
    "txid = lx('c5cbb8836612144a69f33775810a725b715140608093e902b609f28f7ff90457')\n",
    "vout = 0\n",
    "\n",
    "# Create the txin structure, which includes the outpoint. The scriptSig\n",
    "# defaults to being empty.\n",
    "txin = CMutableTxIn(COutPoint(txid, vout))\n",
    "\n",
    "# We also need the scriptPubKey of the output we're spending because\n",
    "# SignatureHash() replaces the transaction scriptSig's with it.\n",
    "#\n",
    "# Here we'll create that scriptPubKey from scratch using the pubkey that\n",
    "# corresponds to the secret key we generated above.\n",
    "\n",
    "\n",
    "txin_scriptPubKey = CScript([OP_DUP, OP_HASH160, Hash160(seckey), OP_EQUALVERIFY, OP_CHECKSIG])\n",
    "\n",
    "# Create the txout. This time we create the scriptPubKey from a Bitcoin\n",
    "# address.\n",
    "txout = CMutableTxOut(0.001, CBitcoinAddress('mr2gt3V9KiBmaPsJTtWxqjaHkXcX46Nrjt').to_scriptPubKey())\n",
    "\n",
    "# Create the unsigned transaction.\n",
    "tx = CMutableTransaction([txin], [txout])\n",
    "\n",
    "#BroadCast the transaction\n",
    "\n",
    "\n",
    "# Calculate the signature hash for that transaction.\n",
    "sighash = SignatureHash(txin_scriptPubKey, tx, 0, SIGHASH_ALL)\n",
    "\n",
    "# Now sign it. We have to append the type of signature we want to the end, in\n",
    "# this case the usual SIGHASH_ALL.\n",
    "sig = seckey.sign(sighash) + bytes([SIGHASH_ALL])\n",
    "\n",
    "# Set the scriptSig of our transaction input appropriately.\n",
    "txin.scriptSig = CScript([sig, seckey.pub])\n",
    "\n",
    "# Verify the signature worked. This calls EvalScript() and actually executes\n",
    "# the opcodes in the scripts to see if everything worked out. If it doesn't an\n",
    "# exception will be raised.\n",
    "VerifyScript(txin.scriptSig, txin_scriptPubKey, tx, 0, (SCRIPT_VERIFY_P2SH,))\n",
    "\n",
    "# Done! Print the transaction to standard output with the bytes-to-hex\n",
    "# function.\n",
    "print(b2x(tx.serialize()))"
   ]
  },
  {
   "cell_type": "markdown",
   "metadata": {},
   "source": []
  },
  {
   "cell_type": "code",
   "execution_count": 3,
   "metadata": {},
   "outputs": [
    {
     "ename": "AttributeError",
     "evalue": "type object 'CBitcoinAddress' has no attribute 'from_string'",
     "output_type": "error",
     "traceback": [
      "\u001b[0;31m---------------------------------------------------------------------------\u001b[0m",
      "\u001b[0;31mAttributeError\u001b[0m                            Traceback (most recent call last)",
      "Cell \u001b[0;32mIn[3], line 9\u001b[0m\n\u001b[1;32m      7\u001b[0m \u001b[38;5;66;03m# Private key and Bitcoin address from the previous step\u001b[39;00m\n\u001b[1;32m      8\u001b[0m private_key \u001b[38;5;241m=\u001b[39m CBitcoinSecret\u001b[38;5;241m.\u001b[39mfrom_secret_bytes(\u001b[38;5;124mb\u001b[39m\u001b[38;5;124m'\u001b[39m\u001b[38;5;124mcSSyMMZQkB4uLULkEAF4CypPF2meKrwfox2sXz6BEnmMLckc4Y9E\u001b[39m\u001b[38;5;124m'\u001b[39m)\n\u001b[0;32m----> 9\u001b[0m address \u001b[38;5;241m=\u001b[39m \u001b[43mCBitcoinAddress\u001b[49m\u001b[38;5;241;43m.\u001b[39;49m\u001b[43mfrom_string\u001b[49m(\u001b[38;5;124m'\u001b[39m\u001b[38;5;124mmr2gt3V9KiBmaPsJTtWxqjaHkXcX46Nrjt\u001b[39m\u001b[38;5;124m'\u001b[39m)\n\u001b[1;32m     11\u001b[0m \u001b[38;5;66;03m# Create a transaction input (UTXO)\u001b[39;00m\n\u001b[1;32m     12\u001b[0m txid \u001b[38;5;241m=\u001b[39m lx(\u001b[38;5;124m'\u001b[39m\u001b[38;5;124mc5cbb8836612144a69f33775810a725b715140608093e902b609f28f7ff90457\u001b[39m\u001b[38;5;124m'\u001b[39m) \u001b[38;5;66;03m# Transaction ID of the UTXO you want to spend\u001b[39;00m\n",
      "\u001b[0;31mAttributeError\u001b[0m: type object 'CBitcoinAddress' has no attribute 'from_string'"
     ]
    }
   ],
   "source": [
    "from bitcoin.core import b2lx, lx, COIN, COutPoint\n",
    "from bitcoin.core.script import CScript, OP_DUP, OP_HASH160, OP_EQUALVERIFY, OP_CHECKSIG\n",
    "from bitcoin.wallet import CBitcoinAddress, CBitcoinSecret\n",
    "from bitcoin.core.scripteval import VerifyScript, SCRIPT_VERIFY_P2SH\n",
    "from bitcoin.core import CMutableTransaction, CMutableTxOut, CMutableTxIn\n",
    "\n",
    "# Private key and Bitcoin address from the previous step\n",
    "private_key = CBitcoinSecret.from_secret_bytes(b'cSSyMMZQkB4uLULkEAF4CypPF2meKrwfox2sXz6BEnmMLckc4Y9E')\n",
    "address = CBitcoinAddress.from_string('mr2gt3V9KiBmaPsJTtWxqjaHkXcX46Nrjt')\n",
    "\n",
    "# Create a transaction input (UTXO)\n",
    "txid = lx('c5cbb8836612144a69f33775810a725b715140608093e902b609f28f7ff90457') # Transaction ID of the UTXO you want to spend\n",
    "output_index = 0 # Index of the output in the transaction\n",
    "txin = CMutableTxIn(COutPoint(txid, output_index))\n",
    "\n",
    "# Create a transaction output to the desired destination\n",
    "destination_address = CBitcoinAddress('2Mz87LWo5GgbHVZhx48nxZQfCh84opc9rzn') # Recipient’s address\n",
    "amount_to_send = 0.001 # Amount to send in satoshis\n",
    "txout = CMutableTxOut(amount_to_send * COIN, destination_address.to_scriptPubKey())\n",
    "\n",
    "# Create the transaction\n",
    "tx = CMutableTransaction([txin], [txout])\n",
    "\n",
    "# Sign the transaction\n",
    "sighash = SignatureHash(CScript([OP_DUP, OP_HASH160, address, OP_EQUALVERIFY, OP_CHECKSIG]), tx, 0, SIGHASH_ALL)\n",
    "sig = private_key.sign(sighash) + bytes([SIGHASH_ALL])\n",
    "txin.scriptSig = CScript([sig, private_key.pub])\n",
    "\n",
    "# Verify the signature\n",
    "VerifyScript(txin.scriptSig, txout.scriptPubKey, tx, 0, (SCRIPT_VERIFY_P2SH,))\n",
    "\n",
    "# Broadcast the transaction\n",
    "# This part is network-dependent and is not covered by python-bitcoinlib"
   ]
  }
 ],
 "metadata": {
  "kernelspec": {
   "display_name": "Python 3",
   "language": "python",
   "name": "python3"
  },
  "language_info": {
   "codemirror_mode": {
    "name": "ipython",
    "version": 3
   },
   "file_extension": ".py",
   "mimetype": "text/x-python",
   "name": "python",
   "nbconvert_exporter": "python",
   "pygments_lexer": "ipython3",
   "version": "3.10.12"
  }
 },
 "nbformat": 4,
 "nbformat_minor": 2
}
